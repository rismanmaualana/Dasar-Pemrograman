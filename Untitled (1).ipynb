{
 "cells": [
  {
   "cell_type": "markdown",
   "id": "44064df4",
   "metadata": {},
   "source": [
    " <h1>Variable Dan Type Data</h1><hr>\n",
    "Tipe Data pada Python adalah:\n",
    "<ol>\n",
    "    <li>Float - (float)</li>\n",
    "    <li>String - (str)</li>\n",
    "    <li>Boolean - (bool)</li>\n",
    "    <li>integer - (int)</li>\n",
    "</ol><hr>\n",
    "Aturan Penamaan Variabel:\n",
    "<ul>\n",
    "    <li>Tidak bolehh menggunakan spasi</li>\n",
    "    <li>Bersifat case sensitive=> A != a\n",
    "    <li>Terdiri dari huruf , angka dan karakter _ (underscore)</li>\n",
    "    <li>Diawali underscore atau huruf</li>\n",
    "    <li>Tidak boleh menggunakan Reverse keyword</li>\n",
    "  "
   ]
  },
  {
   "cell_type": "code",
   "execution_count": 9,
   "id": "629ae5fe",
   "metadata": {},
   "outputs": [
    {
     "name": "stdout",
     "output_type": "stream",
     "text": [
      "100\n",
      "50.6\n",
      "1\n",
      "True\n"
     ]
    }
   ],
   "source": [
    "data_integer = 100\n",
    "data_float = 50.6\n",
    "data_string = \"1\"\n",
    "data_boolean = True\n",
    "\n",
    "data_string\n",
    "print(data_integer)\n",
    "print(data_float)\n",
    "print(data_string)\n",
    "print(data_boolean)"
   ]
  },
  {
   "cell_type": "code",
   "execution_count": 18,
   "id": "7422ccf7",
   "metadata": {},
   "outputs": [
    {
     "name": "stdout",
     "output_type": "stream",
     "text": [
      "<class 'int'>\n",
      "<class 'float'>\n",
      "<class 'str'>\n",
      "<class 'bool'>\n"
     ]
    }
   ],
   "source": [
    "print(type(data_integer))\n",
    "print(type(data_float))\n",
    "print(type(data_string))\n",
    "print(type(data_boolean))"
   ]
  },
  {
   "cell_type": "code",
   "execution_count": null,
   "id": "e4e0b81a",
   "metadata": {},
   "outputs": [],
   "source": [
    "<h3>Konversi Tipe Data dari Integer ke(String,Float,Boolean)"
   ]
  },
  {
   "cell_type": "code",
   "execution_count": 21,
   "id": "2cb8ad2a",
   "metadata": {},
   "outputs": [
    {
     "name": "stdout",
     "output_type": "stream",
     "text": [
      "isikan bilangan 1;78\n",
      "isikan bilangan 2;69\n",
      "147\n"
     ]
    }
   ],
   "source": [
    "bil1 = input(\"isikan bilangan 1;\")\n",
    "bil2 = input(\"isikan bilangan 2;\")\n",
    "hasil = int(bil1) + int(bil2)\n",
    "print(hasil)"
   ]
  },
  {
   "cell_type": "code",
   "execution_count": 32,
   "id": "fb128df2",
   "metadata": {},
   "outputs": [
    {
     "name": "stdout",
     "output_type": "stream",
     "text": [
      "True\n",
      "True\n",
      "True\n",
      "<class 'bool'>\n",
      "<class 'bool'>\n",
      "<class 'bool'>\n"
     ]
    }
   ],
   "source": [
    "string_to_bool =bool(data_string)\n",
    "float_to_bool = bool(data_float)\n",
    "int_to_bool =bool(data_boolean)\n",
    "\n",
    "print(string_to_bool)\n",
    "print(float_to_bool)\n",
    "print(int_to_bool)\n",
    "\n",
    "print(type(string_to_bool))\n",
    "print(type(float_to_bool))\n",
    "print(type(int_to_bool))"
   ]
  },
  {
   "cell_type": "code",
   "execution_count": null,
   "id": "b9e888b5",
   "metadata": {},
   "outputs": [],
   "source": []
  },
  {
   "cell_type": "code",
   "execution_count": null,
   "id": "db4f7006",
   "metadata": {},
   "outputs": [],
   "source": []
  }
 ],
 "metadata": {
  "kernelspec": {
   "display_name": "Python 3 (ipykernel)",
   "language": "python",
   "name": "python3"
  },
  "language_info": {
   "codemirror_mode": {
    "name": "ipython",
    "version": 3
   },
   "file_extension": ".py",
   "mimetype": "text/x-python",
   "name": "python",
   "nbconvert_exporter": "python",
   "pygments_lexer": "ipython3",
   "version": "3.9.12"
  }
 },
 "nbformat": 4,
 "nbformat_minor": 5
}
