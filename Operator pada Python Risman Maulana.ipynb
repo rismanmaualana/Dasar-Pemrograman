{
 "cells": [
  {
   "cell_type": "markdown",
   "id": "8b4accbe",
   "metadata": {},
   "source": [
    "Operator Risman Maulana"
   ]
  },
  {
   "cell_type": "code",
   "execution_count": null,
   "id": "709197bb",
   "metadata": {},
   "outputs": [],
   "source": []
  },
  {
   "cell_type": "code",
   "execution_count": null,
   "id": "8f491d83",
   "metadata": {},
   "outputs": [],
   "source": []
  },
  {
   "cell_type": "code",
   "execution_count": 2,
   "id": "28d82ab8",
   "metadata": {},
   "outputs": [
    {
     "name": "stdout",
     "output_type": "stream",
     "text": [
      "27\n",
      "27\n",
      "140\n",
      "2.857142857142857\n",
      "2\n",
      "1280000000\n",
      "6\n"
     ]
    }
   ],
   "source": [
    "num1 = 20\n",
    "num2 = 7\n",
    "\n",
    "hasil_jumlah = num1 + num2\n",
    "hasil_kurang = num1 + num2\n",
    "hasil_kali = num1 * num2\n",
    "hasil_bagi = num1 / num2\n",
    "hasil_bagi_bulat = num1 // num2\n",
    "hasil_pangkat = num1  ** num2\n",
    "hasil_modulus = num1 % num2\n",
    "\n",
    "print(hasil_jumlah)\n",
    "print(hasil_kurang)\n",
    "print(hasil_kali)\n",
    "print(hasil_bagi)\n",
    "print(hasil_bagi_bulat)\n",
    "print(hasil_pangkat)\n",
    "print(hasil_modulus)"
   ]
  },
  {
   "cell_type": "code",
   "execution_count": 6,
   "id": "bef1a0cc",
   "metadata": {},
   "outputs": [
    {
     "name": "stdout",
     "output_type": "stream",
     "text": [
      "10\n",
      "15\n",
      "13\n",
      "104\n",
      "10.4\n",
      "1.0\n",
      "1.0\n"
     ]
    }
   ],
   "source": [
    "x = 10\n",
    "print(x) #10\n",
    "x += 5 #x = x + 5\n",
    "print(x) #15\n",
    "x -=2 #x = x - 2\n",
    "print(x) #13\n",
    "x *= 8 #x = x * 8\n",
    "print(x) #17\n",
    "x /= 10 #x = x / 10\n",
    "print(x) #11\n",
    "x //= 9 #x = x // 9\n",
    "print(x) #14\n",
    "x **= 7\n",
    "#x = x **7\n",
    "print(x) #19\n",
    "x %= 4 #x = x % 4"
   ]
  },
  {
   "cell_type": "markdown",
   "id": "7689a65e",
   "metadata": {},
   "source": [
    "Operator Bilangan"
   ]
  },
  {
   "cell_type": "code",
   "execution_count": 11,
   "id": "e121357a",
   "metadata": {},
   "outputs": [
    {
     "ename": "NameError",
     "evalue": "name 'z' is not defined",
     "output_type": "error",
     "traceback": [
      "\u001b[1;31m---------------------------------------------------------------------------\u001b[0m",
      "\u001b[1;31mNameError\u001b[0m                                 Traceback (most recent call last)",
      "Input \u001b[1;32mIn [11]\u001b[0m, in \u001b[0;36m<cell line: 4>\u001b[1;34m()\u001b[0m\n\u001b[0;32m      1\u001b[0m y \u001b[38;5;241m=\u001b[39m \u001b[38;5;241m5\u001b[39m\n\u001b[0;32m      2\u001b[0m x \u001b[38;5;241m=\u001b[39m \u001b[38;5;241m6\u001b[39m\n\u001b[1;32m----> 4\u001b[0m \u001b[38;5;28mprint\u001b[39m(y\u001b[38;5;241m==\u001b[39m\u001b[43mz\u001b[49m) \u001b[38;5;66;03m#folse\u001b[39;00m\n\u001b[0;32m      5\u001b[0m \u001b[38;5;28mprint\u001b[39m(y\u001b[38;5;241m!=\u001b[39mz) \u001b[38;5;66;03m#true\u001b[39;00m\n\u001b[0;32m      6\u001b[0m \u001b[38;5;28mprint\u001b[39m(y\u001b[38;5;241m>\u001b[39mz) \u001b[38;5;66;03m#folse\u001b[39;00m\n",
      "\u001b[1;31mNameError\u001b[0m: name 'z' is not defined"
     ]
    }
   ],
   "source": [
    "y = 5\n",
    "x = 6\n",
    "\n",
    "print(y==z) #folse\n",
    "print(y!=z) #true\n",
    "print(y>z) #folse\n",
    "print(y<z) #true\n",
    "print(y>=5) #true\n",
    "print(z<=6) #true"
   ]
  },
  {
   "cell_type": "markdown",
   "id": "f0f58357",
   "metadata": {},
   "source": [
    "Operator Logika"
   ]
  },
  {
   "cell_type": "code",
   "execution_count": 18,
   "id": "291567bf",
   "metadata": {},
   "outputs": [
    {
     "name": "stdout",
     "output_type": "stream",
     "text": [
      "True\n",
      "False\n",
      "True\n"
     ]
    }
   ],
   "source": [
    "val1 = 10\n",
    "val2 = 5\n",
    "\n",
    "opr_and = val1 > val2 and val1 < 11 #true\n",
    "opr_or = val1 == 9 or val2 >5 #true\n",
    "opr_not = not(opr_and and opr_or)\n",
    "\n",
    "print(opr_and)\n",
    "print(opr_or)\n",
    "print(opr_and and opr_not)"
   ]
  },
  {
   "cell_type": "markdown",
   "id": "043e7b97",
   "metadata": {},
   "source": [
    "Operator Identitas"
   ]
  },
  {
   "cell_type": "code",
   "execution_count": 21,
   "id": "0b3919c7",
   "metadata": {},
   "outputs": [
    {
     "name": "stdout",
     "output_type": "stream",
     "text": [
      "True\n",
      "False\n",
      "True\n",
      "False\n"
     ]
    }
   ],
   "source": [
    "fruits = [\"Apel\", \"Semangka\", \"Durian\"]\n",
    "fav_fruits = fruits\n",
    "your_fruits = [\"Apel\",\"Sangka\",\"Durian\"]\n",
    "name = \"Risman\"\n",
    "your_name = \"Risman\"\n",
    "\n",
    "print(fav_fruits is fruits)\n",
    "print(fruits is your_fruits)\n",
    "print(name is your_name)\n",
    "print(fav_fruits is not fruits)"
   ]
  },
  {
   "cell_type": "markdown",
   "id": "5ab90cc4",
   "metadata": {},
   "source": [
    "Opeator Keanggotaan"
   ]
  },
  {
   "cell_type": "code",
   "execution_count": 24,
   "id": "f83f5242",
   "metadata": {},
   "outputs": [
    {
     "name": "stdout",
     "output_type": "stream",
     "text": [
      "False\n",
      "True\n",
      "True\n",
      "False\n",
      "False\n"
     ]
    }
   ],
   "source": [
    "city = [\"pabumulih\", \"cibarengkok\", \"jakarta\"]\n",
    "print(\"prabumulih\" in city)\n",
    "print(\"cibarengkok\" in city)\n",
    "print(\"jakarta\" in city)\n",
    "print(\"surabaya\" in city)\n",
    "print(\"prabumulih\" in city and \"cibarengkok\")"
   ]
  },
  {
   "cell_type": "markdown",
   "id": "8c42db46",
   "metadata": {},
   "source": [
    "Operator bitwise"
   ]
  },
  {
   "cell_type": "code",
   "execution_count": 30,
   "id": "ac35dee8",
   "metadata": {},
   "outputs": [
    {
     "ename": "NameError",
     "evalue": "name 'bit_not' is not defined",
     "output_type": "error",
     "traceback": [
      "\u001b[1;31m---------------------------------------------------------------------------\u001b[0m",
      "\u001b[1;31mNameError\u001b[0m                                 Traceback (most recent call last)",
      "Input \u001b[1;32mIn [30]\u001b[0m, in \u001b[0;36m<cell line: 13>\u001b[1;34m()\u001b[0m\n\u001b[0;32m      5\u001b[0m bit_xor \u001b[38;5;241m=\u001b[39m nilai1 \u001b[38;5;241m^\u001b[39m nilai2\n\u001b[0;32m      6\u001b[0m \u001b[38;5;66;03m#11111111 =>255\u001b[39;00m\n\u001b[0;32m      7\u001b[0m \u001b[38;5;66;03m#00001111 =>15\u001b[39;00m\n\u001b[0;32m      8\u001b[0m \u001b[38;5;66;03m#------------- or\u001b[39;00m\n\u001b[0;32m      9\u001b[0m \u001b[38;5;66;03m#00001111 =>15\u001b[39;00m\n\u001b[0;32m     10\u001b[0m \u001b[38;5;66;03m#11111111=>255\u001b[39;00m\n\u001b[0;32m     11\u001b[0m \u001b[38;5;66;03m#11110000=>240\u001b[39;00m\n\u001b[1;32m---> 13\u001b[0m \u001b[38;5;28mprint\u001b[39m(\u001b[43mbit_not\u001b[49m)\n\u001b[0;32m     14\u001b[0m \u001b[38;5;28mprint\u001b[39m(bit_or)\n\u001b[0;32m     15\u001b[0m \u001b[38;5;28mprint\u001b[39m(bit_xor)\n",
      "\u001b[1;31mNameError\u001b[0m: name 'bit_not' is not defined"
     ]
    }
   ],
   "source": [
    "nilai1 =225\n",
    "nilai2 =15\n",
    "bit_and = nilai1 & nilai2\n",
    "bi_or = nilai1 | nilai2\n",
    "bit_xor = nilai1 ^ nilai2\n",
    "#11111111 =>255\n",
    "#00001111 =>15\n",
    "#------------- or\n",
    "#00001111 =>15\n",
    "#11111111=>255\n",
    "#11110000=>240\n",
    "\n",
    "print(bit_not)\n",
    "print(bit_or)\n",
    "print(bit_xor)\n",
    "\n",
    "#shift left\n",
    "print(128 >> 2)"
   ]
  },
  {
   "cell_type": "code",
   "execution_count": null,
   "id": "b8be96b7",
   "metadata": {},
   "outputs": [],
   "source": []
  },
  {
   "cell_type": "code",
   "execution_count": null,
   "id": "122954b8",
   "metadata": {},
   "outputs": [],
   "source": [
    "frist_name = input('insert your frist name')\n",
    "middle_name = input('insert your middle name')\n",
    "last_name = input('insert your last name')\n",
    "\n",
    "print(\"Hello\", frist_name,middle_name,last_name, \"!!\")"
   ]
  }
 ],
 "metadata": {
  "kernelspec": {
   "display_name": "Python 3 (ipykernel)",
   "language": "python",
   "name": "python3"
  },
  "language_info": {
   "codemirror_mode": {
    "name": "ipython",
    "version": 3
   },
   "file_extension": ".py",
   "mimetype": "text/x-python",
   "name": "python",
   "nbconvert_exporter": "python",
   "pygments_lexer": "ipython3",
   "version": "3.9.12"
  }
 },
 "nbformat": 4,
 "nbformat_minor": 5
}
